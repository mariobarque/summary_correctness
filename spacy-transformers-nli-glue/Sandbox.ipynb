{
 "cells": [
  {
   "cell_type": "code",
   "execution_count": 42,
   "metadata": {},
   "outputs": [],
   "source": [
    "import spacy\n",
    "import torch\n",
    "\n",
    "def classify_one_sample(nlp, premise, hypothesis, categories=[0,1]):\n",
    "    doc = nlp('%s\\n%s' % (premise, hypothesis))\n",
    "    docs = (doc,)\n",
    "    \n",
    "    textcat = nlp.get_pipe('trf_textcat')\n",
    "    tok2vec = nlp.get_pipe('trf_tok2vec')\n",
    "    \n",
    "    predicted = list(textcat.pipe(tok2vec.pipe(docs)))[0]\n",
    "    print('Category predicted weights: ', predicted.cats)\n",
    "    \n",
    "    return max(predicted.cats.items(), key=lambda it: it[1])"
   ]
  },
  {
   "cell_type": "code",
   "execution_count": 43,
   "metadata": {},
   "outputs": [],
   "source": [
    "# Load the language model (already fine tuned)\n",
    "nlp = spacy.load(\"my_fine_tuned_models/en_trf_bertbaseuncased_lg_wnli\")"
   ]
  },
  {
   "cell_type": "code",
   "execution_count": 49,
   "metadata": {},
   "outputs": [
    {
     "name": "stdout",
     "output_type": "stream",
     "text": [
      "Category predicted weights:  {'0': 0.4806347191333771, '1': 0.5193652510643005}\n",
      "Predicted Category:  ('1', 0.5193652510643005)\n"
     ]
    }
   ],
   "source": [
    "premise = \"The father carried the sleeping boy in his arms.\"\n",
    "hypothesis = \"The father carried the sleeping boy in the father's arms.\"\n",
    "\n",
    "prediction = classify_one_sample(nlp, premise, hypothesis)\n",
    "print('Predicted Category: ', prediction)"
   ]
  },
  {
   "cell_type": "code",
   "execution_count": null,
   "metadata": {},
   "outputs": [],
   "source": []
  }
 ],
 "metadata": {
  "kernelspec": {
   "display_name": "Python 3",
   "language": "python",
   "name": "python3"
  },
  "language_info": {
   "codemirror_mode": {
    "name": "ipython",
    "version": 3
   },
   "file_extension": ".py",
   "mimetype": "text/x-python",
   "name": "python",
   "nbconvert_exporter": "python",
   "pygments_lexer": "ipython3",
   "version": "3.7.7"
  }
 },
 "nbformat": 4,
 "nbformat_minor": 4
}
